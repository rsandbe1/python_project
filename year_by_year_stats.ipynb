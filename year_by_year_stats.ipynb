{
 "cells": [
  {
   "cell_type": "code",
   "execution_count": 3,
   "id": "d3c3cb5b",
   "metadata": {},
   "outputs": [],
   "source": [
    "import pandas as pd\n",
    "import numpy as np\n",
    "import re\n",
    "import matplotlib.pyplot as plt"
   ]
  },
  {
   "cell_type": "code",
   "execution_count": 16,
   "id": "9d650b61",
   "metadata": {},
   "outputs": [],
   "source": [
    "attempts_list_2pt = []\n",
    "attempts_list_3pt = []\n",
    "\n",
    "for year in range(10,19):\n",
    "    stats = pd.read_csv(f'../python_project_csv_files/20{year}-{year+1}_pbp.csv', header = [0])\n",
    "    stats.fillna('',inplace=True)\n",
    "    stats['Play'] = stats[\"VISITORDESCRIPTION\"] + stats[\"HOMEDESCRIPTION\"]\n",
    "    stats['Play'] = stats['Play'].apply(lambda row: row if re.findall(\"\\d'\",row) != [] else np.nan)\n",
    "    stats.dropna(subset=['Play'],inplace=True)\n",
    "    stats['ShotDist'] = stats['Play'].apply(lambda row: re.findall(\"\\d+'\",row)[0][0:2] if len(re.findall(\"\\d+'\",row)[0]) == 3 else re.findall(\"\\d+'\",row)[0][0:1]).astype(int)\n",
    "    stats['ShotOutcome'] = stats['Play'].apply(lambda row: 'miss' if 'MISS' in row else 'make')\n",
    "    stats['ShotType'] = stats['Play'].apply(lambda row: '3PT' if '3PT' in row else '2PT')\n",
    "    refined_stats = stats[['ShotType','ShotDist','ShotOutcome']]\n",
    "    \n",
    "    attempts_2pt = len(refined_stats[refined_stats['ShotType'] == '2PT'])\n",
    "    attempts_list_2pt.append(attempts_2pt)\n",
    "    attempts_3pt = len(refined_stats[refined_stats['ShotType'] == '3PT'])\n",
    "    attempts_list_3pt.append(attempts_3pt)"
   ]
  },
  {
   "cell_type": "code",
   "execution_count": 17,
   "id": "cd47e385",
   "metadata": {},
   "outputs": [
    {
     "data": {
      "text/plain": [
       "[149685, 119517, 145798, 144798, 136619, 135216, 129584, 137567, 137593]"
      ]
     },
     "execution_count": 17,
     "metadata": {},
     "output_type": "execute_result"
    }
   ],
   "source": [
    "attempts_list_2pt"
   ]
  },
  {
   "cell_type": "code",
   "execution_count": 18,
   "id": "7ab6a7fc",
   "metadata": {},
   "outputs": [
    {
     "data": {
      "text/plain": [
       "[36997, 30624, 41226, 45180, 46907, 51476, 58889, 60129, 66367]"
      ]
     },
     "execution_count": 18,
     "metadata": {},
     "output_type": "execute_result"
    }
   ],
   "source": [
    "attempts_list_3pt"
   ]
  },
  {
   "cell_type": "code",
   "execution_count": 23,
   "id": "9ef35577",
   "metadata": {},
   "outputs": [],
   "source": [
    "perc_shots_2pt = []\n",
    "perc_shots_3pt = []\n",
    "for year in range(len(attempts_list_2pt)):\n",
    "    perc_shots_2pt.append(attempts_list_2pt[year]/(attempts_list_2pt[year]+attempts_list_3pt[year]))\n",
    "    perc_shots_3pt.append(attempts_list_3pt[year]/(attempts_list_2pt[year]+attempts_list_3pt[year]))"
   ]
  },
  {
   "cell_type": "code",
   "execution_count": 24,
   "id": "a8003178",
   "metadata": {},
   "outputs": [],
   "source": [
    "year_list = list(range(2010,2019))"
   ]
  },
  {
   "cell_type": "code",
   "execution_count": 25,
   "id": "4daca11f",
   "metadata": {},
   "outputs": [
    {
     "data": {
      "text/plain": [
       "<BarContainer object of 9 artists>"
      ]
     },
     "execution_count": 25,
     "metadata": {},
     "output_type": "execute_result"
    },
    {
     "data": {
      "image/png": "[encoded data removed]",
      "text/plain": [
       "<Figure size 432x288 with 1 Axes>"
      ]
     },
     "metadata": {
      "needs_background": "light"
     },
     "output_type": "display_data"
    }
   ],
   "source": [
    "plt.bar(year_list,perc_shots_3pt,color='r')\n",
    "plt.bar(year_list,perc_shots_2pt,bottom=perc_shots_3pt,color='b')"
   ]
  }
 ],
 "metadata": {
  "kernelspec": {
   "display_name": "Python 3",
   "language": "python",
   "name": "python3"
  },
  "language_info": {
   "codemirror_mode": {
    "name": "ipython",
    "version": 3
   },
   "file_extension": ".py",
   "mimetype": "text/x-python",
   "name": "python",
   "nbconvert_exporter": "python",
   "pygments_lexer": "ipython3",
   "version": "3.8.8"
  }
 },
 "nbformat": 4,
 "nbformat_minor": 5
}
