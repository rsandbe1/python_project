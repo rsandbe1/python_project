{
 "cells": [
  {
   "cell_type": "code",
   "execution_count": 1,
   "id": "41bff28d",
   "metadata": {},
   "outputs": [],
   "source": [
    "import pandas as pd\n",
    "import numpy as np\n",
    "from matplotlib import pyplot as plt\n",
    "\n",
    "\n",
    "all_stats = pd.read_csv('../python_project_csv_files/2019-20_pbp.csv', header = [0])\n",
    "\n",
    "pd.set_option(\"display.max_columns\", None)"
   ]
  },
  {
   "cell_type": "code",
   "execution_count": 2,
   "id": "f674d611",
   "metadata": {},
   "outputs": [
    {
     "name": "stdout",
     "output_type": "stream",
     "text": [
      "   Team ShotType  fg_percent  wins\n",
      "1   ATL      3PT    0.333195    20\n",
      "3   BOS      3PT    0.363892    48\n",
      "5   BRK      3PT    0.342680    35\n",
      "7   CHI      3PT    0.347502    22\n",
      "9   CHO      3PT    0.351860    23\n",
      "11  CLE      3PT    0.351208    19\n",
      "13  DAL      3PT    0.367044    43\n",
      "15  DEN      3PT    0.358550    46\n",
      "17  DET      3PT    0.366713    20\n",
      "19  GSW      3PT    0.333661    15\n",
      "21  HOU      3PT    0.345293    44\n",
      "23  IND      3PT    0.363148    45\n",
      "25  LAC      3PT    0.371369    49\n",
      "27  LAL      3PT    0.348796    52\n",
      "29  MEM      3PT    0.349699    34\n",
      "31  MIA      3PT    0.378870    44\n",
      "33  MIL      3PT    0.354577    56\n",
      "35  MIN      3PT    0.335827    19\n",
      "37  NOP      3PT    0.369729    30\n",
      "39  NYK      3PT    0.337073    21\n",
      "41  OKC      3PT    0.354675    44\n",
      "43  ORL      3PT    0.342821    33\n",
      "45  PHI      3PT    0.367577    43\n",
      "47  PHO      3PT    0.358190    34\n",
      "49  POR      3PT    0.376998    35\n",
      "51  SAC      3PT    0.363998    31\n",
      "53  SAS      3PT    0.376051    32\n",
      "55  TOR      3PT    0.373639    53\n",
      "57  UTA      3PT    0.379582    44\n",
      "59  WAS      3PT    0.368443    25\n"
     ]
    },
    {
     "name": "stderr",
     "output_type": "stream",
     "text": [
      "<ipython-input-2-76d55f210642>:18: SettingWithCopyWarning: \n",
      "A value is trying to be set on a copy of a slice from a DataFrame.\n",
      "Try using .loc[row_indexer,col_indexer] = value instead\n",
      "\n",
      "See the caveats in the documentation: https://pandas.pydata.org/pandas-docs/stable/user_guide/indexing.html#returning-a-view-versus-a-copy\n",
      "  fg_perc_3pt['wins'] = [20,48,35,22,23,19,43,46,20,15,44,45,49,52,34,44,56,19,30,21,44,33,43,34,35,31,32,53,44,25]\n"
     ]
    }
   ],
   "source": [
    "some_stats = all_stats[['GameType','WinningTeam','Quarter','AwayTeam','AwayPlay','HomeTeam','HomePlay','Shooter','ShotType','ShotOutcome','ShotDist']]\n",
    "some_stats.head(5)\n",
    "shooting = some_stats[some_stats['Shooter'].notna()].reset_index().drop(columns = 'index')\n",
    "shooting['Team'] = shooting.apply(lambda row: row['AwayTeam'] if isinstance(row['AwayPlay'],str) else row['HomeTeam'], axis=1)\n",
    "shooting.fillna('',inplace=True)\n",
    "shooting['Play'] = shooting['AwayPlay'] + shooting['HomePlay']\n",
    "shooting['ShotType'] = shooting['ShotType'].apply(lambda row: '3PT' if '3-pt' in row else '2PT')\n",
    "shooting\n",
    "\n",
    "regular_season = shooting[shooting['GameType']=='regular']\n",
    "refined_df = regular_season[['Team','ShotType','ShotDist','ShotOutcome']]\n",
    "\n",
    "fg_perc = refined_df.groupby(['ShotType','ShotDist']).apply(lambda row: (sum(row['ShotOutcome']=='make')/len(row['ShotOutcome'])))\n",
    "fg_perc\n",
    "#two_point_shots = some_stats[some_stats['ShotType'].str.contains('2')].reset_index().drop(columns = 'index')\n",
    "team_fg_perc = refined_df.groupby(['Team','ShotType']).apply(lambda row: (sum(row['ShotOutcome']=='make')/len(row['ShotOutcome']))).reset_index(name='fg_percent')\n",
    "fg_perc_3pt = team_fg_perc[team_fg_perc['ShotType'] == '3PT']\n",
    "fg_perc_3pt['wins'] = [20,48,35,22,23,19,43,46,20,15,44,45,49,52,34,44,56,19,30,21,44,33,43,34,35,31,32,53,44,25]\n",
    "print(fg_perc_3pt)\n",
    "\n",
    "\n",
    "test = refined_df.groupby('Team').apply(lambda row: (sum((row['ShotOutcome']=='make') & (row['ShotType']=='2PT'))+sum((row['ShotOutcome']=='make') & (row['ShotType']=='3PT')))/len(row['ShotOutcome'])).reset_index(name='fg_percent')\n",
    "test['wins'] = [20,48,35,22,23,19,43,46,20,15,44,45,49,52,34,44,56,19,30,21,44,33,43,34,35,31,32,53,44,25]\n",
    "\n",
    "team_efg_perc = refined_df.groupby('Team').apply(lambda row: (sum((row['ShotOutcome']=='make') & (row['ShotType']=='2PT'))+1.5*sum((row['ShotOutcome']=='make') & (row['ShotType']=='3PT')))/len(row['ShotOutcome'])).reset_index(name='efg_percent')\n",
    "team_efg_perc['wins'] = [20,48,35,22,23,19,43,46,20,15,44,45,49,52,34,44,56,19,30,21,44,33,43,34,35,31,32,53,44,25]"
   ]
  },
  {
   "cell_type": "code",
   "execution_count": 40,
   "id": "7c3299bc",
   "metadata": {},
   "outputs": [
    {
     "data": {
      "text/plain": [
       "[<matplotlib.lines.Line2D at 0x7f91c89f7040>]"
      ]
     },
     "execution_count": 40,
     "metadata": {},
     "output_type": "execute_result"
    },
    {
     "data": {
      "image/png": "[encoded data removed]",
      "text/plain": [
       "<Figure size 432x288 with 1 Axes>"
      ]
     },
     "metadata": {
      "needs_background": "light"
     },
     "output_type": "display_data"
    }
   ],
   "source": [
    "xd = fg_perc_3pt['fg_percent']\n",
    "yd = [20,48,35,22,23,19,43,46,20,15,44,45,49,52,34,44,56,19,30,21,44,33,43,34,35,31,32,53,44,25]\n",
    "\n",
    "plt.scatter(xd, yd)\n",
    "\n",
    "# determine best fit line\n",
    "par = np.polyfit(xd, yd, 1, full=True)\n",
    "\n",
    "slope=par[0][0]\n",
    "intercept=par[0][1]\n",
    "xl = [min(xd), max(xd)]\n",
    "yl = [slope*xx + intercept  for xx in xl]\n",
    "\n",
    "# coefficient of determination, plot text\n",
    "variance = np.var(yd)\n",
    "residuals = np.var([(slope*xx + intercept - yy)  for xx,yy in zip(xd,yd)])\n",
    "Rsqr = np.round(1-residuals/variance, decimals=2)\n",
    "plt.text(.37,55,'$R^2 = %0.2f$'% Rsqr, fontsize=16)\n",
    "\n",
    "plt.plot(xl, yl, '-k')"
   ]
  },
  {
   "cell_type": "code",
   "execution_count": 38,
   "id": "171be38e",
   "metadata": {},
   "outputs": [
    {
     "data": {
      "text/plain": [
       "[<matplotlib.lines.Line2D at 0x7f91ec695a90>]"
      ]
     },
     "execution_count": 38,
     "metadata": {},
     "output_type": "execute_result"
    },
    {
     "data": {
      "image/png": "[encoded data removed]",
      "text/plain": [
       "<Figure size 432x288 with 1 Axes>"
      ]
     },
     "metadata": {
      "needs_background": "light"
     },
     "output_type": "display_data"
    }
   ],
   "source": [
    "xd = team_efg_perc['efg_percent']\n",
    "yd = team_efg_perc['wins']\n",
    "\n",
    "plt.scatter(xd, yd)\n",
    "\n",
    "# determine best fit line\n",
    "par = np.polyfit(xd, yd, 1, full=True)\n",
    "\n",
    "slope=par[0][0]\n",
    "intercept=par[0][1]\n",
    "xl = [min(xd), max(xd)]\n",
    "yl = [slope*xx + intercept  for xx in xl]\n",
    "\n",
    "# coefficient of determination, plot text\n",
    "variance = np.var(yd)\n",
    "residuals = np.var([(slope*xx + intercept - yy)  for xx,yy in zip(xd,yd)])\n",
    "Rsqr = np.round(1-residuals/variance, decimals=2)\n",
    "plt.text(.537,55,'$R^2 = %0.2f$'% Rsqr, fontsize=16)\n",
    "\n",
    "plt.plot(xl, yl, '-k')"
   ]
  },
  {
   "cell_type": "code",
   "execution_count": 5,
   "id": "9e8e20f8",
   "metadata": {},
   "outputs": [
    {
     "data": {
      "text/plain": [
       "[<matplotlib.lines.Line2D at 0x7f91eb142070>]"
      ]
     },
     "execution_count": 5,
     "metadata": {},
     "output_type": "execute_result"
    },
    {
     "data": {
      "image/png": "[encoded data removed]",
      "text/plain": [
       "<Figure size 432x288 with 1 Axes>"
      ]
     },
     "metadata": {
      "needs_background": "light"
     },
     "output_type": "display_data"
    }
   ],
   "source": [
    "xd = team_efg_perc['efg_percent']\n",
    "#yd = team_efg_perc['wins']\n",
    "\n",
    "yd = [.299,.667,.486,.338,.354,.292,.573,.630,.303,.231,.611,.616,.681,.732,.466,.603,.767,.297,.417,.318,.611,.452,.589,.466,.473,.431,.451,.736,.611,.347]\n",
    "\n",
    "plt.scatter(xd, yd)\n",
    "\n",
    "# determine best fit line\n",
    "par = np.polyfit(xd, yd, 1, full=True)\n",
    "\n",
    "slope=par[0][0]\n",
    "intercept=par[0][1]\n",
    "xl = [min(xd), max(xd)]\n",
    "yl = [slope*xx + intercept  for xx in xl]\n",
    "\n",
    "# coefficient of determination, plot text\n",
    "variance = np.var(yd)\n",
    "residuals = np.var([(slope*xx + intercept - yy)  for xx,yy in zip(xd,yd)])\n",
    "Rsqr = np.round(1-residuals/variance, decimals=2)\n",
    "plt.text(.9*max(xd)+.1*min(xd),.9*max(yd)+.1*min(yd),'$R^2 = %0.2f$'% Rsqr, fontsize=30)\n",
    "\n",
    "plt.plot(xl, yl, '-r')"
   ]
  },
  {
   "cell_type": "code",
   "execution_count": 6,
   "id": "359c55de",
   "metadata": {},
   "outputs": [
    {
     "data": {
      "text/plain": [
       "(array([1., 0., 1., 2., 2., 2., 5., 3., 4., 1., 2., 2., 2., 1., 2.]),\n",
       " array([-23.92405559, -20.86788356, -17.81171153, -14.7555395 ,\n",
       "        -11.69936747,  -8.64319544,  -5.58702341,  -2.53085138,\n",
       "          0.52532065,   3.58149268,   6.63766471,   9.69383674,\n",
       "         12.75000877,  15.8061808 ,  18.86235283,  21.91852486]),\n",
       " <BarContainer object of 15 artists>)"
      ]
     },
     "execution_count": 6,
     "metadata": {},
     "output_type": "execute_result"
    },
    {
     "data": {
      "image/png": "[encoded data removed]",
      "text/plain": [
       "<Figure size 432x288 with 1 Axes>"
      ]
     },
     "metadata": {
      "needs_background": "light"
     },
     "output_type": "display_data"
    }
   ],
   "source": [
    "predicted_wins_list = []\n",
    "for team in range(len(xd)):\n",
    "    predicted_wins_list.append(72*(slope*xd[team]+intercept))\n",
    "\n",
    "predicted_wins_list\n",
    "actual_wins_list = [41,36,48,31,33,22,42,47,20,39,17,34,47,42,38,40,46,23,31,41,22,21,49,51,42,31,33,27,52,34]\n",
    "diff_list = []\n",
    "for team in range(len(predicted_wins_list)):\n",
    "    diff_list.append(actual_wins_list[team] - predicted_wins_list[team])\n",
    "\n",
    "plt.hist(diff_list,bins=15)"
   ]
  },
  {
   "cell_type": "code",
   "execution_count": 7,
   "id": "95016f9b",
   "metadata": {},
   "outputs": [
    {
     "data": {
      "text/plain": [
       "[<matplotlib.lines.Line2D at 0x7f91ebb1e880>]"
      ]
     },
     "execution_count": 7,
     "metadata": {},
     "output_type": "execute_result"
    },
    {
     "data": {
      "image/png": "[encoded data removed]",
      "text/plain": [
       "<Figure size 432x288 with 1 Axes>"
      ]
     },
     "metadata": {
      "needs_background": "light"
     },
     "output_type": "display_data"
    }
   ],
   "source": [
    "xd = test['fg_percent']\n",
    "yd = test['wins']\n",
    "\n",
    "plt.scatter(xd, yd)\n",
    "\n",
    "# determine best fit line\n",
    "par = np.polyfit(xd, yd, 1, full=True)\n",
    "\n",
    "slope=par[0][0]\n",
    "intercept=par[0][1]\n",
    "xl = [min(xd), max(xd)]\n",
    "yl = [slope*xx + intercept  for xx in xl]\n",
    "\n",
    "# coefficient of determination, plot text\n",
    "variance = np.var(yd)\n",
    "residuals = np.var([(slope*xx + intercept - yy)  for xx,yy in zip(xd,yd)])\n",
    "Rsqr = np.round(1-residuals/variance, decimals=2)\n",
    "plt.text(.9*max(xd)+.1*min(xd),.9*max(yd)+.1*min(yd),'$R^2 = %0.2f$'% Rsqr, fontsize=30)\n",
    "\n",
    "plt.plot(xl, yl, '-r')"
   ]
  },
  {
   "cell_type": "code",
   "execution_count": 8,
   "id": "f39a7c07",
   "metadata": {},
   "outputs": [
    {
     "data": {
      "text/plain": [
       "<matplotlib.collections.PathCollection at 0x7f91bcc68100>"
      ]
     },
     "execution_count": 8,
     "metadata": {},
     "output_type": "execute_result"
    },
    {
     "data": {
      "image/png": "[encoded data removed]",
      "text/plain": [
       "<Figure size 432x288 with 1 Axes>"
      ]
     },
     "metadata": {
      "needs_background": "light"
     },
     "output_type": "display_data"
    }
   ],
   "source": [
    "plt.scatter(fg_perc_3pt['fg_percent'],fg_perc_3pt['wins'])"
   ]
  },
  {
   "cell_type": "code",
   "execution_count": 9,
   "id": "f846f646",
   "metadata": {},
   "outputs": [
    {
     "data": {
      "text/html": [
       "<div>\n",
       "<style scoped>\n",
       "    .dataframe tbody tr th:only-of-type {\n",
       "        vertical-align: middle;\n",
       "    }\n",
       "\n",
       "    .dataframe tbody tr th {\n",
       "        vertical-align: top;\n",
       "    }\n",
       "\n",
       "    .dataframe thead th {\n",
       "        text-align: right;\n",
       "    }\n",
       "</style>\n",
       "<table border=\"1\" class=\"dataframe\">\n",
       "  <thead>\n",
       "    <tr style=\"text-align: right;\">\n",
       "      <th></th>\n",
       "      <th>GameType</th>\n",
       "      <th>WinningTeam</th>\n",
       "      <th>Quarter</th>\n",
       "      <th>AwayTeam</th>\n",
       "      <th>AwayPlay</th>\n",
       "      <th>HomeTeam</th>\n",
       "      <th>HomePlay</th>\n",
       "      <th>Shooter</th>\n",
       "      <th>ShotType</th>\n",
       "      <th>ShotOutcome</th>\n",
       "      <th>ShotDist</th>\n",
       "    </tr>\n",
       "  </thead>\n",
       "  <tbody>\n",
       "    <tr>\n",
       "      <th>0</th>\n",
       "      <td>regular</td>\n",
       "      <td>TOR</td>\n",
       "      <td>1</td>\n",
       "      <td>NOP</td>\n",
       "      <td>L. Ball misses 2-pt jump shot from 11 ft</td>\n",
       "      <td>TOR</td>\n",
       "      <td>NaN</td>\n",
       "      <td>L. Ball - balllo01</td>\n",
       "      <td>2-pt jump shot</td>\n",
       "      <td>miss</td>\n",
       "      <td>11.0</td>\n",
       "    </tr>\n",
       "    <tr>\n",
       "      <th>1</th>\n",
       "      <td>regular</td>\n",
       "      <td>TOR</td>\n",
       "      <td>1</td>\n",
       "      <td>NOP</td>\n",
       "      <td>D. Favors makes 2-pt layup at rim</td>\n",
       "      <td>TOR</td>\n",
       "      <td>NaN</td>\n",
       "      <td>D. Favors - favorde01</td>\n",
       "      <td>2-pt layup</td>\n",
       "      <td>make</td>\n",
       "      <td>0.0</td>\n",
       "    </tr>\n",
       "    <tr>\n",
       "      <th>2</th>\n",
       "      <td>regular</td>\n",
       "      <td>TOR</td>\n",
       "      <td>1</td>\n",
       "      <td>NOP</td>\n",
       "      <td>NaN</td>\n",
       "      <td>TOR</td>\n",
       "      <td>O. Anunoby misses 2-pt layup from 3 ft</td>\n",
       "      <td>O. Anunoby - anunoog01</td>\n",
       "      <td>2-pt layup</td>\n",
       "      <td>miss</td>\n",
       "      <td>3.0</td>\n",
       "    </tr>\n",
       "    <tr>\n",
       "      <th>3</th>\n",
       "      <td>regular</td>\n",
       "      <td>TOR</td>\n",
       "      <td>1</td>\n",
       "      <td>NOP</td>\n",
       "      <td>J. Holiday misses 2-pt layup from 8 ft</td>\n",
       "      <td>TOR</td>\n",
       "      <td>NaN</td>\n",
       "      <td>J. Holiday - holidjr01</td>\n",
       "      <td>2-pt layup</td>\n",
       "      <td>miss</td>\n",
       "      <td>8.0</td>\n",
       "    </tr>\n",
       "    <tr>\n",
       "      <th>4</th>\n",
       "      <td>regular</td>\n",
       "      <td>TOR</td>\n",
       "      <td>1</td>\n",
       "      <td>NOP</td>\n",
       "      <td>NaN</td>\n",
       "      <td>TOR</td>\n",
       "      <td>K. Lowry misses 3-pt jump shot from 25 ft</td>\n",
       "      <td>K. Lowry - lowryky01</td>\n",
       "      <td>3-pt jump shot</td>\n",
       "      <td>miss</td>\n",
       "      <td>25.0</td>\n",
       "    </tr>\n",
       "  </tbody>\n",
       "</table>\n",
       "</div>"
      ],
      "text/plain": [
       "  GameType WinningTeam  Quarter AwayTeam  \\\n",
       "0  regular         TOR        1      NOP   \n",
       "1  regular         TOR        1      NOP   \n",
       "2  regular         TOR        1      NOP   \n",
       "3  regular         TOR        1      NOP   \n",
       "4  regular         TOR        1      NOP   \n",
       "\n",
       "                                   AwayPlay HomeTeam  \\\n",
       "0  L. Ball misses 2-pt jump shot from 11 ft      TOR   \n",
       "1         D. Favors makes 2-pt layup at rim      TOR   \n",
       "2                                       NaN      TOR   \n",
       "3    J. Holiday misses 2-pt layup from 8 ft      TOR   \n",
       "4                                       NaN      TOR   \n",
       "\n",
       "                                    HomePlay                 Shooter  \\\n",
       "0                                        NaN      L. Ball - balllo01   \n",
       "1                                        NaN   D. Favors - favorde01   \n",
       "2     O. Anunoby misses 2-pt layup from 3 ft  O. Anunoby - anunoog01   \n",
       "3                                        NaN  J. Holiday - holidjr01   \n",
       "4  K. Lowry misses 3-pt jump shot from 25 ft    K. Lowry - lowryky01   \n",
       "\n",
       "         ShotType ShotOutcome  ShotDist  \n",
       "0  2-pt jump shot        miss      11.0  \n",
       "1      2-pt layup        make       0.0  \n",
       "2      2-pt layup        miss       3.0  \n",
       "3      2-pt layup        miss       8.0  \n",
       "4  3-pt jump shot        miss      25.0  "
      ]
     },
     "execution_count": 9,
     "metadata": {},
     "output_type": "execute_result"
    }
   ],
   "source": [
    "shooting = some_stats[some_stats['Shooter'].notna()].reset_index().drop(columns = 'index')\n",
    "shooting.head(5)"
   ]
  },
  {
   "cell_type": "code",
   "execution_count": 10,
   "id": "b4bbe687",
   "metadata": {},
   "outputs": [],
   "source": [
    "shooting['Team'] = some_stats.apply(lambda row: row['AwayTeam'] if isinstance(row['AwayPlay'],str) else row['HomeTeam'], axis=1)"
   ]
  },
  {
   "cell_type": "code",
   "execution_count": 11,
   "id": "6ccce2ff",
   "metadata": {},
   "outputs": [],
   "source": [
    "#shooting.fillna('',inplace=True)\n",
    "#shooting['Play'] = shooting[\"VISITORDESCRIPTION\"] + older_stats[\"HOMEDESCRIPTION\"]"
   ]
  },
  {
   "cell_type": "code",
   "execution_count": 12,
   "id": "cbeeaef5",
   "metadata": {},
   "outputs": [
    {
     "data": {
      "text/plain": [
       "Team  ShotType        ShotOutcome\n",
       "ATL   2-pt dunk       make           1.0\n",
       "                      miss           0.0\n",
       "      2-pt hook shot  make           1.0\n",
       "                      miss           0.0\n",
       "      2-pt jump shot  make           1.0\n",
       "                                    ... \n",
       "WAS   2-pt jump shot  miss           0.0\n",
       "      2-pt layup      make           1.0\n",
       "                      miss           0.0\n",
       "      3-pt jump shot  make           1.0\n",
       "                      miss           0.0\n",
       "Length: 300, dtype: float64"
      ]
     },
     "execution_count": 12,
     "metadata": {},
     "output_type": "execute_result"
    }
   ],
   "source": [
    "shooting.groupby(['Team','ShotType','ShotOutcome']).apply(lambda row: (sum(row['ShotOutcome']=='make')/len(row['ShotOutcome'])))\n"
   ]
  },
  {
   "cell_type": "code",
   "execution_count": null,
   "id": "cae05668",
   "metadata": {},
   "outputs": [],
   "source": []
  }
 ],
 "metadata": {
  "kernelspec": {
   "display_name": "Python 3",
   "language": "python",
   "name": "python3"
  },
  "language_info": {
   "codemirror_mode": {
    "name": "ipython",
    "version": 3
   },
   "file_extension": ".py",
   "mimetype": "text/x-python",
   "name": "python",
   "nbconvert_exporter": "python",
   "pygments_lexer": "ipython3",
   "version": "3.8.8"
  }
 },
 "nbformat": 4,
 "nbformat_minor": 5
}
